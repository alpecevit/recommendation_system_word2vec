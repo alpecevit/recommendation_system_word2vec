{
 "cells": [
  {
   "attachments": {},
   "cell_type": "markdown",
   "metadata": {},
   "source": [
    "# Packages"
   ]
  },
  {
   "cell_type": "code",
   "execution_count": 1,
   "metadata": {},
   "outputs": [],
   "source": [
    "# for reading in datasets and data manipulation\n",
    "import pandas as pd\n",
    "from datetime import datetime\n",
    "\n",
    "# for data visualization\n",
    "import matplotlib.pyplot as plt\n",
    "import seaborn as sns ; sns.set()\n",
    "\n",
    "# for iterations\n",
    "from tqdm import tqdm\n",
    "\n",
    "# ignoring warnings\n",
    "import warnings\n",
    "warnings.filterwarnings('ignore')"
   ]
  },
  {
   "attachments": {},
   "cell_type": "markdown",
   "metadata": {},
   "source": [
    "# Data Cleaning"
   ]
  },
  {
   "attachments": {},
   "cell_type": "markdown",
   "metadata": {},
   "source": [
    "This is a notebook for exploring and cleaning the provided data. After conducting necessary operations, a final dataset will be created that will be used to create the recommendation model."
   ]
  },
  {
   "cell_type": "code",
   "execution_count": 2,
   "metadata": {},
   "outputs": [],
   "source": [
    "# function to read in datasets\n",
    "def read_data(filename):\n",
    "    df = pd.read_csv(str(filename))\n",
    "    return df"
   ]
  },
  {
   "cell_type": "code",
   "execution_count": 3,
   "metadata": {},
   "outputs": [
    {
     "data": {
      "text/html": [
       "<div>\n",
       "<style scoped>\n",
       "    .dataframe tbody tr th:only-of-type {\n",
       "        vertical-align: middle;\n",
       "    }\n",
       "\n",
       "    .dataframe tbody tr th {\n",
       "        vertical-align: top;\n",
       "    }\n",
       "\n",
       "    .dataframe thead th {\n",
       "        text-align: right;\n",
       "    }\n",
       "</style>\n",
       "<table border=\"1\" class=\"dataframe\">\n",
       "  <thead>\n",
       "    <tr style=\"text-align: right;\">\n",
       "      <th></th>\n",
       "      <th>timestamp</th>\n",
       "      <th>visitorid</th>\n",
       "      <th>event</th>\n",
       "      <th>itemid</th>\n",
       "      <th>transactionid</th>\n",
       "    </tr>\n",
       "  </thead>\n",
       "  <tbody>\n",
       "    <tr>\n",
       "      <th>0</th>\n",
       "      <td>1433221332117</td>\n",
       "      <td>257597</td>\n",
       "      <td>view</td>\n",
       "      <td>355908</td>\n",
       "      <td>NaN</td>\n",
       "    </tr>\n",
       "    <tr>\n",
       "      <th>1</th>\n",
       "      <td>1433224214164</td>\n",
       "      <td>992329</td>\n",
       "      <td>view</td>\n",
       "      <td>248676</td>\n",
       "      <td>NaN</td>\n",
       "    </tr>\n",
       "    <tr>\n",
       "      <th>2</th>\n",
       "      <td>1433221999827</td>\n",
       "      <td>111016</td>\n",
       "      <td>view</td>\n",
       "      <td>318965</td>\n",
       "      <td>NaN</td>\n",
       "    </tr>\n",
       "    <tr>\n",
       "      <th>3</th>\n",
       "      <td>1433221955914</td>\n",
       "      <td>483717</td>\n",
       "      <td>view</td>\n",
       "      <td>253185</td>\n",
       "      <td>NaN</td>\n",
       "    </tr>\n",
       "    <tr>\n",
       "      <th>4</th>\n",
       "      <td>1433221337106</td>\n",
       "      <td>951259</td>\n",
       "      <td>view</td>\n",
       "      <td>367447</td>\n",
       "      <td>NaN</td>\n",
       "    </tr>\n",
       "  </tbody>\n",
       "</table>\n",
       "</div>"
      ],
      "text/plain": [
       "       timestamp  visitorid event  itemid  transactionid\n",
       "0  1433221332117     257597  view  355908            NaN\n",
       "1  1433224214164     992329  view  248676            NaN\n",
       "2  1433221999827     111016  view  318965            NaN\n",
       "3  1433221955914     483717  view  253185            NaN\n",
       "4  1433221337106     951259  view  367447            NaN"
      ]
     },
     "execution_count": 3,
     "metadata": {},
     "output_type": "execute_result"
    }
   ],
   "source": [
    "data = read_data('../data/events.csv') # reading the dataset\n",
    "data.head()"
   ]
  },
  {
   "cell_type": "code",
   "execution_count": 4,
   "metadata": {},
   "outputs": [
    {
     "data": {
      "text/plain": [
       "timestamp          int64\n",
       "visitorid          int64\n",
       "event             object\n",
       "itemid             int64\n",
       "transactionid    float64\n",
       "dtype: object"
      ]
     },
     "execution_count": 4,
     "metadata": {},
     "output_type": "execute_result"
    }
   ],
   "source": [
    "# checking column types\n",
    "data.dtypes"
   ]
  },
  {
   "cell_type": "code",
   "execution_count": 5,
   "metadata": {},
   "outputs": [
    {
     "data": {
      "text/plain": [
       "timestamp              0\n",
       "visitorid              0\n",
       "event                  0\n",
       "itemid                 0\n",
       "transactionid    2733644\n",
       "dtype: int64"
      ]
     },
     "execution_count": 5,
     "metadata": {},
     "output_type": "execute_result"
    }
   ],
   "source": [
    "data.isnull().sum() # nulls caused by other events than transaction, this is not a problem since I will only use view events"
   ]
  },
  {
   "cell_type": "code",
   "execution_count": 6,
   "metadata": {},
   "outputs": [
    {
     "name": "stdout",
     "output_type": "stream",
     "text": [
      "<class 'pandas.core.frame.DataFrame'>\n",
      "RangeIndex: 2756101 entries, 0 to 2756100\n",
      "Data columns (total 5 columns):\n",
      " #   Column         Dtype  \n",
      "---  ------         -----  \n",
      " 0   timestamp      int64  \n",
      " 1   visitorid      int64  \n",
      " 2   event          object \n",
      " 3   itemid         int64  \n",
      " 4   transactionid  float64\n",
      "dtypes: float64(1), int64(3), object(1)\n",
      "memory usage: 105.1+ MB\n"
     ]
    }
   ],
   "source": [
    "# checking dataset information\n",
    "data.info()"
   ]
  },
  {
   "cell_type": "code",
   "execution_count": 7,
   "metadata": {},
   "outputs": [
    {
     "data": {
      "text/html": [
       "<div>\n",
       "<style scoped>\n",
       "    .dataframe tbody tr th:only-of-type {\n",
       "        vertical-align: middle;\n",
       "    }\n",
       "\n",
       "    .dataframe tbody tr th {\n",
       "        vertical-align: top;\n",
       "    }\n",
       "\n",
       "    .dataframe thead th {\n",
       "        text-align: right;\n",
       "    }\n",
       "</style>\n",
       "<table border=\"1\" class=\"dataframe\">\n",
       "  <thead>\n",
       "    <tr style=\"text-align: right;\">\n",
       "      <th></th>\n",
       "      <th>timestamp</th>\n",
       "      <th>visitorid</th>\n",
       "      <th>event</th>\n",
       "      <th>itemid</th>\n",
       "      <th>transactionid</th>\n",
       "    </tr>\n",
       "  </thead>\n",
       "  <tbody>\n",
       "    <tr>\n",
       "      <th>22404</th>\n",
       "      <td>1433180781440</td>\n",
       "      <td>1045411</td>\n",
       "      <td>addtocart</td>\n",
       "      <td>379647</td>\n",
       "      <td>NaN</td>\n",
       "    </tr>\n",
       "    <tr>\n",
       "      <th>34465</th>\n",
       "      <td>1433274223925</td>\n",
       "      <td>366538</td>\n",
       "      <td>addtocart</td>\n",
       "      <td>252068</td>\n",
       "      <td>NaN</td>\n",
       "    </tr>\n",
       "    <tr>\n",
       "      <th>39738</th>\n",
       "      <td>1433265100661</td>\n",
       "      <td>198153</td>\n",
       "      <td>addtocart</td>\n",
       "      <td>48715</td>\n",
       "      <td>NaN</td>\n",
       "    </tr>\n",
       "    <tr>\n",
       "      <th>41774</th>\n",
       "      <td>1433270868154</td>\n",
       "      <td>1268755</td>\n",
       "      <td>view</td>\n",
       "      <td>60980</td>\n",
       "      <td>NaN</td>\n",
       "    </tr>\n",
       "    <tr>\n",
       "      <th>42469</th>\n",
       "      <td>1433277134682</td>\n",
       "      <td>555487</td>\n",
       "      <td>addtocart</td>\n",
       "      <td>397642</td>\n",
       "      <td>NaN</td>\n",
       "    </tr>\n",
       "    <tr>\n",
       "      <th>...</th>\n",
       "      <td>...</td>\n",
       "      <td>...</td>\n",
       "      <td>...</td>\n",
       "      <td>...</td>\n",
       "      <td>...</td>\n",
       "    </tr>\n",
       "    <tr>\n",
       "      <th>2748964</th>\n",
       "      <td>1438346018813</td>\n",
       "      <td>722488</td>\n",
       "      <td>view</td>\n",
       "      <td>97303</td>\n",
       "      <td>NaN</td>\n",
       "    </tr>\n",
       "    <tr>\n",
       "      <th>2750464</th>\n",
       "      <td>1438370523152</td>\n",
       "      <td>896869</td>\n",
       "      <td>addtocart</td>\n",
       "      <td>85004</td>\n",
       "      <td>NaN</td>\n",
       "    </tr>\n",
       "    <tr>\n",
       "      <th>2752725</th>\n",
       "      <td>1438405570135</td>\n",
       "      <td>708442</td>\n",
       "      <td>addtocart</td>\n",
       "      <td>392883</td>\n",
       "      <td>NaN</td>\n",
       "    </tr>\n",
       "    <tr>\n",
       "      <th>2753763</th>\n",
       "      <td>1438376127329</td>\n",
       "      <td>372829</td>\n",
       "      <td>addtocart</td>\n",
       "      <td>388276</td>\n",
       "      <td>NaN</td>\n",
       "    </tr>\n",
       "    <tr>\n",
       "      <th>2755356</th>\n",
       "      <td>1438378507708</td>\n",
       "      <td>415611</td>\n",
       "      <td>addtocart</td>\n",
       "      <td>177728</td>\n",
       "      <td>NaN</td>\n",
       "    </tr>\n",
       "  </tbody>\n",
       "</table>\n",
       "<p>460 rows × 5 columns</p>\n",
       "</div>"
      ],
      "text/plain": [
       "             timestamp  visitorid      event  itemid  transactionid\n",
       "22404    1433180781440    1045411  addtocart  379647            NaN\n",
       "34465    1433274223925     366538  addtocart  252068            NaN\n",
       "39738    1433265100661     198153  addtocart   48715            NaN\n",
       "41774    1433270868154    1268755       view   60980            NaN\n",
       "42469    1433277134682     555487  addtocart  397642            NaN\n",
       "...                ...        ...        ...     ...            ...\n",
       "2748964  1438346018813     722488       view   97303            NaN\n",
       "2750464  1438370523152     896869  addtocart   85004            NaN\n",
       "2752725  1438405570135     708442  addtocart  392883            NaN\n",
       "2753763  1438376127329     372829  addtocart  388276            NaN\n",
       "2755356  1438378507708     415611  addtocart  177728            NaN\n",
       "\n",
       "[460 rows x 5 columns]"
      ]
     },
     "execution_count": 7,
     "metadata": {},
     "output_type": "execute_result"
    }
   ],
   "source": [
    "# checking duplicate values\n",
    "data[data.duplicated()]"
   ]
  },
  {
   "cell_type": "code",
   "execution_count": 8,
   "metadata": {},
   "outputs": [],
   "source": [
    "data = data.drop_duplicates(keep='first') # dropping duplicate rows"
   ]
  },
  {
   "cell_type": "code",
   "execution_count": 9,
   "metadata": {},
   "outputs": [],
   "source": [
    "# changing integer columns to string\n",
    "data['visitorid'] = data['visitorid'].astype(str)\n",
    "data['itemid'] = data['itemid'].astype(str)"
   ]
  },
  {
   "cell_type": "code",
   "execution_count": 10,
   "metadata": {},
   "outputs": [
    {
     "data": {
      "text/plain": [
       "timestamp          int64\n",
       "visitorid         object\n",
       "event             object\n",
       "itemid            object\n",
       "transactionid    float64\n",
       "dtype: object"
      ]
     },
     "execution_count": 10,
     "metadata": {},
     "output_type": "execute_result"
    }
   ],
   "source": [
    "# checking column types once again\n",
    "data.dtypes"
   ]
  },
  {
   "cell_type": "code",
   "execution_count": 11,
   "metadata": {},
   "outputs": [
    {
     "data": {
      "text/html": [
       "<div>\n",
       "<style scoped>\n",
       "    .dataframe tbody tr th:only-of-type {\n",
       "        vertical-align: middle;\n",
       "    }\n",
       "\n",
       "    .dataframe tbody tr th {\n",
       "        vertical-align: top;\n",
       "    }\n",
       "\n",
       "    .dataframe thead th {\n",
       "        text-align: right;\n",
       "    }\n",
       "</style>\n",
       "<table border=\"1\" class=\"dataframe\">\n",
       "  <thead>\n",
       "    <tr style=\"text-align: right;\">\n",
       "      <th></th>\n",
       "      <th>timestamp</th>\n",
       "      <th>visitorid</th>\n",
       "      <th>itemid</th>\n",
       "    </tr>\n",
       "  </thead>\n",
       "  <tbody>\n",
       "    <tr>\n",
       "      <th>0</th>\n",
       "      <td>1433221332117</td>\n",
       "      <td>257597</td>\n",
       "      <td>355908</td>\n",
       "    </tr>\n",
       "    <tr>\n",
       "      <th>1</th>\n",
       "      <td>1433224214164</td>\n",
       "      <td>992329</td>\n",
       "      <td>248676</td>\n",
       "    </tr>\n",
       "    <tr>\n",
       "      <th>2</th>\n",
       "      <td>1433221999827</td>\n",
       "      <td>111016</td>\n",
       "      <td>318965</td>\n",
       "    </tr>\n",
       "    <tr>\n",
       "      <th>3</th>\n",
       "      <td>1433221955914</td>\n",
       "      <td>483717</td>\n",
       "      <td>253185</td>\n",
       "    </tr>\n",
       "    <tr>\n",
       "      <th>4</th>\n",
       "      <td>1433221337106</td>\n",
       "      <td>951259</td>\n",
       "      <td>367447</td>\n",
       "    </tr>\n",
       "  </tbody>\n",
       "</table>\n",
       "</div>"
      ],
      "text/plain": [
       "       timestamp visitorid  itemid\n",
       "0  1433221332117    257597  355908\n",
       "1  1433224214164    992329  248676\n",
       "2  1433221999827    111016  318965\n",
       "3  1433221955914    483717  253185\n",
       "4  1433221337106    951259  367447"
      ]
     },
     "execution_count": 11,
     "metadata": {},
     "output_type": "execute_result"
    }
   ],
   "source": [
    "# I am filtering my dataset because I am only going to use the view data\n",
    "data = data[data['event'] == 'view'].copy()\n",
    "data = data.drop(['event', 'transactionid'], axis=1)\n",
    "data.head()"
   ]
  },
  {
   "attachments": {},
   "cell_type": "markdown",
   "metadata": {},
   "source": [
    "# Data Exploration"
   ]
  },
  {
   "cell_type": "code",
   "execution_count": 12,
   "metadata": {},
   "outputs": [],
   "source": [
    "# function for data grouping\n",
    "def group_numerical_data(df_name, df_grouped_column, categorical_column):\n",
    "    df = df_name.groupby(str(df_grouped_column)).agg({str(categorical_column): lambda x: len(x)}).reset_index()\n",
    "    return df"
   ]
  },
  {
   "cell_type": "code",
   "execution_count": 13,
   "metadata": {},
   "outputs": [],
   "source": [
    "# function to see the distribution of provided columns\n",
    "def plot_distribution(df_column_name,bins=0):\n",
    "    plt.figure(figsize=(16,6))\n",
    "    sns.distplot(df_column_name, bins=bins, kde=False)\n",
    "    plt.axvline(df_column_name.median(), c=\"r\", label=f\"Median : {int(df_column_name.median())}\")\n",
    "    plt.xlabel('# of products')\n",
    "    plt.legend()\n",
    "    plt.show()"
   ]
  },
  {
   "cell_type": "code",
   "execution_count": 14,
   "metadata": {},
   "outputs": [],
   "source": [
    "# looking at the popular products\n",
    "popular_products = group_numerical_data(data, 'itemid', 'visitorid')"
   ]
  },
  {
   "cell_type": "code",
   "execution_count": 15,
   "metadata": {},
   "outputs": [
    {
     "data": {
      "image/png": "[encoded data removed]",
      "text/plain": [
       "<Figure size 1600x600 with 1 Axes>"
      ]
     },
     "metadata": {},
     "output_type": "display_data"
    }
   ],
   "source": [
    "# plotting distribution\n",
    "plot_distribution(popular_products['visitorid'],bins=5)"
   ]
  },
  {
   "cell_type": "code",
   "execution_count": 16,
   "metadata": {},
   "outputs": [
    {
     "data": {
      "text/html": [
       "<div>\n",
       "<style scoped>\n",
       "    .dataframe tbody tr th:only-of-type {\n",
       "        vertical-align: middle;\n",
       "    }\n",
       "\n",
       "    .dataframe tbody tr th {\n",
       "        vertical-align: top;\n",
       "    }\n",
       "\n",
       "    .dataframe thead th {\n",
       "        text-align: right;\n",
       "    }\n",
       "</style>\n",
       "<table border=\"1\" class=\"dataframe\">\n",
       "  <thead>\n",
       "    <tr style=\"text-align: right;\">\n",
       "      <th></th>\n",
       "      <th>itemid</th>\n",
       "      <th>visitorid</th>\n",
       "    </tr>\n",
       "  </thead>\n",
       "  <tbody>\n",
       "    <tr>\n",
       "      <th>234837</th>\n",
       "      <td>99999</td>\n",
       "      <td>1</td>\n",
       "    </tr>\n",
       "    <tr>\n",
       "      <th>109847</th>\n",
       "      <td>296628</td>\n",
       "      <td>1</td>\n",
       "    </tr>\n",
       "    <tr>\n",
       "      <th>202245</th>\n",
       "      <td>461839</td>\n",
       "      <td>1</td>\n",
       "    </tr>\n",
       "    <tr>\n",
       "      <th>202246</th>\n",
       "      <td>461840</td>\n",
       "      <td>1</td>\n",
       "    </tr>\n",
       "    <tr>\n",
       "      <th>56043</th>\n",
       "      <td>200655</td>\n",
       "      <td>1</td>\n",
       "    </tr>\n",
       "    <tr>\n",
       "      <th>...</th>\n",
       "      <td>...</td>\n",
       "      <td>...</td>\n",
       "    </tr>\n",
       "    <tr>\n",
       "      <th>66605</th>\n",
       "      <td>219512</td>\n",
       "      <td>1740</td>\n",
       "    </tr>\n",
       "    <tr>\n",
       "      <th>151293</th>\n",
       "      <td>370653</td>\n",
       "      <td>1854</td>\n",
       "    </tr>\n",
       "    <tr>\n",
       "      <th>209228</th>\n",
       "      <td>5411</td>\n",
       "      <td>2325</td>\n",
       "    </tr>\n",
       "    <tr>\n",
       "      <th>202159</th>\n",
       "      <td>461686</td>\n",
       "      <td>2538</td>\n",
       "    </tr>\n",
       "    <tr>\n",
       "      <th>49016</th>\n",
       "      <td>187946</td>\n",
       "      <td>3410</td>\n",
       "    </tr>\n",
       "  </tbody>\n",
       "</table>\n",
       "<p>234838 rows × 2 columns</p>\n",
       "</div>"
      ],
      "text/plain": [
       "        itemid  visitorid\n",
       "234837   99999          1\n",
       "109847  296628          1\n",
       "202245  461839          1\n",
       "202246  461840          1\n",
       "56043   200655          1\n",
       "...        ...        ...\n",
       "66605   219512       1740\n",
       "151293  370653       1854\n",
       "209228    5411       2325\n",
       "202159  461686       2538\n",
       "49016   187946       3410\n",
       "\n",
       "[234838 rows x 2 columns]"
      ]
     },
     "execution_count": 16,
     "metadata": {},
     "output_type": "execute_result"
    }
   ],
   "source": [
    "popular_products.sort_values(by='visitorid', ascending=True) # visitorid column is actullay the number of product views for particular product"
   ]
  },
  {
   "cell_type": "code",
   "execution_count": 17,
   "metadata": {},
   "outputs": [
    {
     "name": "stdout",
     "output_type": "stream",
     "text": [
      "# of products that are only viewed once: 73799\n",
      "# of unique products: 234838\n"
     ]
    }
   ],
   "source": [
    "print('# of products that are only viewed once:', popular_products[popular_products['visitorid'] == 1].shape[0])\n",
    "print('# of unique products:', popular_products.shape[0])"
   ]
  },
  {
   "attachments": {},
   "cell_type": "markdown",
   "metadata": {},
   "source": [
    "From above we can see 73799 products are viewed only once and the distribution is rather skewed. I am not going to delete those products that are only viewed once because it will make my dataset more biased towards popular products. "
   ]
  },
  {
   "cell_type": "code",
   "execution_count": 18,
   "metadata": {},
   "outputs": [],
   "source": [
    "# grouping by user to see how many products are viewed per user\n",
    "products_viewed_per_user = group_numerical_data(data, 'visitorid', 'itemid')"
   ]
  },
  {
   "cell_type": "code",
   "execution_count": 19,
   "metadata": {},
   "outputs": [
    {
     "data": {
      "image/png": "[encoded data removed]",
      "text/plain": [
       "<Figure size 1600x600 with 1 Axes>"
      ]
     },
     "metadata": {},
     "output_type": "display_data"
    }
   ],
   "source": [
    "# plotting distribution\n",
    "plot_distribution(products_viewed_per_user['itemid'],bins=5)"
   ]
  },
  {
   "cell_type": "code",
   "execution_count": 20,
   "metadata": {},
   "outputs": [
    {
     "data": {
      "text/html": [
       "<div>\n",
       "<style scoped>\n",
       "    .dataframe tbody tr th:only-of-type {\n",
       "        vertical-align: middle;\n",
       "    }\n",
       "\n",
       "    .dataframe tbody tr th {\n",
       "        vertical-align: top;\n",
       "    }\n",
       "\n",
       "    .dataframe thead th {\n",
       "        text-align: right;\n",
       "    }\n",
       "</style>\n",
       "<table border=\"1\" class=\"dataframe\">\n",
       "  <thead>\n",
       "    <tr style=\"text-align: right;\">\n",
       "      <th></th>\n",
       "      <th>visitorid</th>\n",
       "      <th>itemid</th>\n",
       "    </tr>\n",
       "  </thead>\n",
       "  <tbody>\n",
       "    <tr>\n",
       "      <th>702089</th>\n",
       "      <td>366571</td>\n",
       "      <td>1</td>\n",
       "    </tr>\n",
       "    <tr>\n",
       "      <th>858738</th>\n",
       "      <td>507888</td>\n",
       "      <td>1</td>\n",
       "    </tr>\n",
       "    <tr>\n",
       "      <th>858739</th>\n",
       "      <td>507889</td>\n",
       "      <td>1</td>\n",
       "    </tr>\n",
       "    <tr>\n",
       "      <th>858740</th>\n",
       "      <td>50789</td>\n",
       "      <td>1</td>\n",
       "    </tr>\n",
       "    <tr>\n",
       "      <th>858741</th>\n",
       "      <td>507890</td>\n",
       "      <td>1</td>\n",
       "    </tr>\n",
       "    <tr>\n",
       "      <th>...</th>\n",
       "      <td>...</td>\n",
       "      <td>...</td>\n",
       "    </tr>\n",
       "    <tr>\n",
       "      <th>477084</th>\n",
       "      <td>163561</td>\n",
       "      <td>2194</td>\n",
       "    </tr>\n",
       "    <tr>\n",
       "      <th>465335</th>\n",
       "      <td>152963</td>\n",
       "      <td>2304</td>\n",
       "    </tr>\n",
       "    <tr>\n",
       "      <th>1288939</th>\n",
       "      <td>895999</td>\n",
       "      <td>2368</td>\n",
       "    </tr>\n",
       "    <tr>\n",
       "      <th>883881</th>\n",
       "      <td>530559</td>\n",
       "      <td>3623</td>\n",
       "    </tr>\n",
       "    <tr>\n",
       "      <th>166385</th>\n",
       "      <td>1150086</td>\n",
       "      <td>6479</td>\n",
       "    </tr>\n",
       "  </tbody>\n",
       "</table>\n",
       "<p>1404179 rows × 2 columns</p>\n",
       "</div>"
      ],
      "text/plain": [
       "        visitorid  itemid\n",
       "702089     366571       1\n",
       "858738     507888       1\n",
       "858739     507889       1\n",
       "858740      50789       1\n",
       "858741     507890       1\n",
       "...           ...     ...\n",
       "477084     163561    2194\n",
       "465335     152963    2304\n",
       "1288939    895999    2368\n",
       "883881     530559    3623\n",
       "166385    1150086    6479\n",
       "\n",
       "[1404179 rows x 2 columns]"
      ]
     },
     "execution_count": 20,
     "metadata": {},
     "output_type": "execute_result"
    }
   ],
   "source": [
    "products_viewed_per_user.sort_values(by='itemid', ascending=True) # itemid column represents the number of products that particular user views"
   ]
  },
  {
   "attachments": {},
   "cell_type": "markdown",
   "metadata": {},
   "source": [
    "From the plot distribution and litte dataset above, for most of the users, we can see that the amount of products viewed per user varies between one and somewhere over thousands. I am going to delete those user_ids that only viewed 1 product because I consider them as outliers and these kind of users make it hard to build strong recommendations due to user cold start problem."
   ]
  },
  {
   "cell_type": "code",
   "execution_count": 21,
   "metadata": {},
   "outputs": [],
   "source": [
    "# saving outlier user_ids to a list\n",
    "outliers = products_viewed_per_user[products_viewed_per_user['itemid'] == 1].index.tolist()"
   ]
  },
  {
   "cell_type": "code",
   "execution_count": 22,
   "metadata": {},
   "outputs": [],
   "source": [
    "# deleting outlier user ids from original dataset\n",
    "data = data[~data['visitorid'].isin(outliers)]"
   ]
  },
  {
   "cell_type": "code",
   "execution_count": 23,
   "metadata": {},
   "outputs": [],
   "source": [
    "# function to delete consecutive views made by users and only keeping one\n",
    "def delete_consecutives_1(dataframe):\n",
    "    final_df = pd.DataFrame() # creating an empty data frame for cleaned dataset\n",
    "    user_id_list = dataframe['visitorid'].unique().tolist() # putting user_ids to list\n",
    "\n",
    "    for user_id in tqdm(user_id_list[:400000]):\n",
    "        filtered_data = dataframe[dataframe['visitorid'] == str(user_id)].sort_values(by='timestamp', ascending=False)\n",
    "        filtered_data = filtered_data.loc[filtered_data['itemid'].shift() != filtered_data['itemid']]\n",
    "        final_df = final_df.append(filtered_data, ignore_index=True)\n",
    "    \n",
    "    return final_df.to_csv('../data/final_data_1.csv', index=False)"
   ]
  },
  {
   "cell_type": "code",
   "execution_count": 24,
   "metadata": {},
   "outputs": [
    {
     "name": "stderr",
     "output_type": "stream",
     "text": [
      "100%|██████████| 400000/400000 [31:00:46<00:00,  3.58it/s]   \n"
     ]
    }
   ],
   "source": [
    "delete_consecutives_1(data)"
   ]
  },
  {
   "cell_type": "code",
   "execution_count": 25,
   "metadata": {},
   "outputs": [],
   "source": [
    "# function to delete consecutive views made by users and only keeping one\n",
    "def delete_consecutives_2(dataframe):\n",
    "    final_df = pd.DataFrame() # creating an empty data frame for cleaned dataset\n",
    "    user_id_list = dataframe['visitorid'].unique().tolist() # putting user_ids to list\n",
    "\n",
    "    for user_id in tqdm(user_id_list[400000:800000]):\n",
    "        filtered_data = dataframe[dataframe['visitorid'] == str(user_id)].sort_values(by='timestamp', ascending=False)\n",
    "        filtered_data = filtered_data.loc[filtered_data['itemid'].shift() != filtered_data['itemid']]\n",
    "        final_df = final_df.append(filtered_data, ignore_index=True)\n",
    "    \n",
    "    return final_df.to_csv('../data/final_data_2.csv', index=False)"
   ]
  },
  {
   "cell_type": "code",
   "execution_count": 26,
   "metadata": {},
   "outputs": [
    {
     "name": "stderr",
     "output_type": "stream",
     "text": [
      "100%|██████████| 400000/400000 [29:05:55<00:00,  3.82it/s]   \n"
     ]
    }
   ],
   "source": [
    "delete_consecutives_2(data)"
   ]
  },
  {
   "cell_type": "code",
   "execution_count": 27,
   "metadata": {},
   "outputs": [],
   "source": [
    "# function to delete consecutive views made by users and only keeping one\n",
    "def delete_consecutives_3(dataframe):\n",
    "    final_df = pd.DataFrame() # creating an empty data frame for cleaned dataset\n",
    "    user_id_list = dataframe['visitorid'].unique().tolist() # putting user_ids to list\n",
    "\n",
    "    for user_id in tqdm(user_id_list[800000:]):\n",
    "        filtered_data = dataframe[dataframe['visitorid'] == str(user_id)].sort_values(by='timestamp', ascending=False)\n",
    "        filtered_data = filtered_data.loc[filtered_data['itemid'].shift() != filtered_data['itemid']]\n",
    "        final_df = final_df.append(filtered_data, ignore_index=True)\n",
    "    \n",
    "    return final_df.to_csv('../data/final_data_3.csv', index=False)"
   ]
  },
  {
   "cell_type": "code",
   "execution_count": 28,
   "metadata": {},
   "outputs": [
    {
     "name": "stderr",
     "output_type": "stream",
     "text": [
      "100%|██████████| 604179/604179 [45:30:26<00:00,  3.69it/s]   \n"
     ]
    }
   ],
   "source": [
    "delete_consecutives_3(data)"
   ]
  }
 ],
 "metadata": {
  "kernelspec": {
   "display_name": ".venv",
   "language": "python",
   "name": "python3"
  },
  "language_info": {
   "codemirror_mode": {
    "name": "ipython",
    "version": 3
   },
   "file_extension": ".py",
   "mimetype": "text/x-python",
   "name": "python",
   "nbconvert_exporter": "python",
   "pygments_lexer": "ipython3",
   "version": "3.8.3"
  },
  "orig_nbformat": 4,
  "vscode": {
   "interpreter": {
    "hash": "efff09a4e1b29d7ecd4d65f1dd2f907ad6e45c6a5085000cef4456e72879e581"
   }
  }
 },
 "nbformat": 4,
 "nbformat_minor": 2
}
